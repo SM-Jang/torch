{
 "cells": [
  {
   "cell_type": "markdown",
   "metadata": {},
   "source": [
    "# FAISS\n",
    "https://lsjsj92.tistory.com/605"
   ]
  },
  {
   "cell_type": "code",
   "execution_count": 1,
   "metadata": {},
   "outputs": [],
   "source": [
    "import pandas as pd\n",
    "import numpy as np\n",
    "import faiss"
   ]
  },
  {
   "cell_type": "code",
   "execution_count": 6,
   "metadata": {},
   "outputs": [
    {
     "data": {
      "text/plain": [
       "(20, 32)"
      ]
     },
     "execution_count": 6,
     "metadata": {},
     "output_type": "execute_result"
    }
   ],
   "source": [
    "\"\"\"\n",
    "vector 유사도 계산\n",
    "빠르고 강력\n",
    "\n",
    "sample\n",
    ": 20개의 vector 32 dim으로 구성\n",
    "\n",
    "\"\"\"\n",
    "\n",
    "vector_sample = np.random.rand(20,32).astype('float32')\n",
    "shape = vector_sample.shape\n",
    "shape"
   ]
  },
  {
   "cell_type": "code",
   "execution_count": 10,
   "metadata": {},
   "outputs": [
    {
     "name": "stdout",
     "output_type": "stream",
     "text": [
      "0\n",
      "20\n"
     ]
    }
   ],
   "source": [
    "# faiss의 IndexFlatL2함수를 호출해서 백터의 차원이 어떻게 되는지 알려준다.\n",
    "# faiss의 객체에 대해서 add함수로 vector값을 넣어주면 된다.\n",
    " \n",
    "    \n",
    "    \n",
    "\n",
    "index = faiss.IndexFlatL2(shape[1]) # dim 32\n",
    "print(index.ntotal)\n",
    "\n",
    "index.add(vector_sample) \n",
    "# faiss 내부에서 백터 유사도를 계산 완료\n",
    "print(index.ntotal)\n"
   ]
  },
  {
   "cell_type": "code",
   "execution_count": 29,
   "metadata": {},
   "outputs": [],
   "source": [
    "\"\"\" \n",
    "0번 백터와 나머지 사이의 유사도를 확인했을 때,\n",
    "유사한 순서대로 3개 뽑아낸것\n",
    "distance, indeices\n",
    "\"\"\"\n",
    "\n",
    "distance, indeices = index.search(x = vector_sample[0].reshape(1,-1),\n",
    "                                  k = 3)\n",
    "# x: 기준 백터, k: 가장 유사한 3개의 값을 가지고옴"
   ]
  },
  {
   "cell_type": "code",
   "execution_count": 47,
   "metadata": {},
   "outputs": [
    {
     "name": "stdout",
     "output_type": "stream",
     "text": [
      "[41 48 54 53 45 46 50 57 49 58 40 59 43 47 51 44 55 56 42 52]\n"
     ]
    }
   ],
   "source": [
    "import random\n",
    "ids = np.arange(40,60)\n",
    "random.shuffle(ids)\n",
    "print(ids)"
   ]
  },
  {
   "cell_type": "code",
   "execution_count": 48,
   "metadata": {},
   "outputs": [
    {
     "name": "stdout",
     "output_type": "stream",
     "text": [
      "<faiss.swigfaiss_avx2.IndexFlatL2; proxy of <Swig Object of type 'faiss::IndexFlatL2 *' at 0x7feeae2f7570> >\n",
      "<faiss.swigfaiss_avx2.IndexIDMap2; proxy of <Swig Object of type 'faiss::IndexIDMap2 *' at 0x7feeae2f7600> >\n"
     ]
    }
   ],
   "source": [
    "index = faiss.IndexFlatL2(vector_sample.shape[1])\n",
    "print(index)\n",
    "index = faiss.IndexIDMap2(index)\n",
    "print(index)\n",
    "index.add_with_ids(vector_sample, ids)"
   ]
  },
  {
   "cell_type": "code",
   "execution_count": 49,
   "metadata": {},
   "outputs": [],
   "source": [
    "distances, indices = index.search(vector_sample[0].reshape(1, -1), 3)"
   ]
  },
  {
   "cell_type": "code",
   "execution_count": 50,
   "metadata": {},
   "outputs": [
    {
     "data": {
      "text/plain": [
       "array([[0.       , 4.7064877, 4.8350773]], dtype=float32)"
      ]
     },
     "execution_count": 50,
     "metadata": {},
     "output_type": "execute_result"
    }
   ],
   "source": [
    "distances"
   ]
  },
  {
   "cell_type": "code",
   "execution_count": 51,
   "metadata": {},
   "outputs": [
    {
     "data": {
      "text/plain": [
       "array([[41, 57, 50]])"
      ]
     },
     "execution_count": 51,
     "metadata": {},
     "output_type": "execute_result"
    }
   ],
   "source": [
    "indices"
   ]
  },
  {
   "cell_type": "code",
   "execution_count": null,
   "metadata": {},
   "outputs": [],
   "source": []
  }
 ],
 "metadata": {
  "kernelspec": {
   "display_name": "[Video]",
   "language": "python",
   "name": "video"
  },
  "language_info": {
   "codemirror_mode": {
    "name": "ipython",
    "version": 3
   },
   "file_extension": ".py",
   "mimetype": "text/x-python",
   "name": "python",
   "nbconvert_exporter": "python",
   "pygments_lexer": "ipython3",
   "version": "3.6.12"
  }
 },
 "nbformat": 4,
 "nbformat_minor": 4
}
